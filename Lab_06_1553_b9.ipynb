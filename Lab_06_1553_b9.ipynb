{
  "nbformat": 4,
  "nbformat_minor": 0,
  "metadata": {
    "colab": {
      "provenance": [],
      "authorship_tag": "ABX9TyPvnmq6M2+pNX38ulgDUyxw",
      "include_colab_link": true
    },
    "kernelspec": {
      "name": "python3",
      "display_name": "Python 3"
    },
    "language_info": {
      "name": "python"
    }
  },
  "cells": [
    {
      "cell_type": "markdown",
      "metadata": {
        "id": "view-in-github",
        "colab_type": "text"
      },
      "source": [
        "<a href=\"https://colab.research.google.com/github/2303A51553/ADM_2025/blob/main/Lab_06_1553_b9.ipynb\" target=\"_parent\"><img src=\"https://colab.research.google.com/assets/colab-badge.svg\" alt=\"Open In Colab\"/></a>"
      ]
    },
    {
      "cell_type": "markdown",
      "source": [
        "#Lab 6-Data Transformation"
      ],
      "metadata": {
        "id": "oh2JLIZCBCy6"
      }
    },
    {
      "cell_type": "markdown",
      "source": [
        "1. Data Encoding"
      ],
      "metadata": {
        "id": "OsE6PVggBjON"
      }
    },
    {
      "cell_type": "code",
      "execution_count": 2,
      "metadata": {
        "id": "oh1IwhwN_UCj"
      },
      "outputs": [],
      "source": [
        "import pandas as pd\n",
        "from sklearn.preprocessing import LabelEncoder,OneHotEncoder"
      ]
    },
    {
      "cell_type": "code",
      "source": [
        "data={'Category':['A','B','C','A','B']}\n",
        "df=pd.DataFrame(data)"
      ],
      "metadata": {
        "id": "INoEIyZ6CDxj"
      },
      "execution_count": 3,
      "outputs": []
    },
    {
      "cell_type": "code",
      "source": [
        "label_encoder=LabelEncoder()\n",
        "df['Label_Encoded']=label_encoder.fit_transform(df['Category'])"
      ],
      "metadata": {
        "id": "z6vUwe4OCX0T"
      },
      "execution_count": 4,
      "outputs": []
    },
    {
      "cell_type": "code",
      "source": [
        "one_hot_encoded = pd.get_dummies(df['Category'], prefix='Category')\n",
        "df = pd.concat([df, one_hot_encoded], axis=1)"
      ],
      "metadata": {
        "id": "XrM9Fw42Cizo"
      },
      "execution_count": 5,
      "outputs": []
    },
    {
      "cell_type": "code",
      "source": [
        "print(df)\n"
      ],
      "metadata": {
        "colab": {
          "base_uri": "https://localhost:8080/"
        },
        "id": "3JiO70whCy-n",
        "outputId": "8ef92e12-a571-4a5e-8626-ed75a05b71d0"
      },
      "execution_count": 6,
      "outputs": [
        {
          "output_type": "stream",
          "name": "stdout",
          "text": [
            "  Category  Label_Encoded  Category_A  Category_B  Category_C\n",
            "0        A              0        True       False       False\n",
            "1        B              1       False        True       False\n",
            "2        C              2       False       False        True\n",
            "3        A              0        True       False       False\n",
            "4        B              1       False        True       False\n"
          ]
        }
      ]
    },
    {
      "cell_type": "code",
      "source": [
        "from datetime import datetime"
      ],
      "metadata": {
        "id": "qULF4d_6CygH"
      },
      "execution_count": 7,
      "outputs": []
    },
    {
      "cell_type": "markdown",
      "source": [
        "2. Creating Derived Columns"
      ],
      "metadata": {
        "id": "MaJJxbssI5ux"
      }
    },
    {
      "cell_type": "code",
      "source": [
        "data={'Name':['Alice','Bob'],'Date_of_Birth':['1990-05-14','1985-08-23']}\n",
        "df=pd.DataFrame(data)"
      ],
      "metadata": {
        "id": "v4palBWsDDXG"
      },
      "execution_count": 9,
      "outputs": []
    },
    {
      "cell_type": "code",
      "source": [
        "df['Date_of_Birth'] = pd.to_datetime(df['Date_of_Birth'])"
      ],
      "metadata": {
        "id": "ni5vRfHKD_1F"
      },
      "execution_count": 10,
      "outputs": []
    },
    {
      "cell_type": "code",
      "source": [
        "current_year = datetime.now().year\n",
        "df['Age'] = current_year - df['Date_of_Birth'].dt.year"
      ],
      "metadata": {
        "id": "ciIyU2rfEE4E"
      },
      "execution_count": 11,
      "outputs": []
    },
    {
      "cell_type": "markdown",
      "source": [
        "3. Grouping and Aggregating Data"
      ],
      "metadata": {
        "id": "19EaNCvrEH7P"
      }
    },
    {
      "cell_type": "code",
      "source": [
        "data={'Category':['A','A','B','B','C'],\n",
        "'Value':[10,20,10,30,40]}\n",
        "df=pd.DataFrame(data)"
      ],
      "metadata": {
        "id": "beJu-pIyENeK"
      },
      "execution_count": 17,
      "outputs": []
    },
    {
      "cell_type": "code",
      "source": [
        "grouped=df.groupby('Category').agg({'Value':['sum','mean']})\n",
        "print(\"Grouped Data:\\n\",grouped)"
      ],
      "metadata": {
        "colab": {
          "base_uri": "https://localhost:8080/"
        },
        "id": "V28vdxoGIcEb",
        "outputId": "0d0cad74-8709-4306-b469-1f7d24e77683"
      },
      "execution_count": 18,
      "outputs": [
        {
          "output_type": "stream",
          "name": "stdout",
          "text": [
            "Grouped Data:\n",
            "          Value      \n",
            "           sum  mean\n",
            "Category            \n",
            "A           30  15.0\n",
            "B           40  20.0\n",
            "C           40  40.0\n"
          ]
        }
      ]
    },
    {
      "cell_type": "code",
      "source": [
        "pivot = df.pivot_table(index='Category',values='Value',aggfunc=['sum','mean'])\n",
        "print(\"\\nPivot Table:\\n\",pivot)\n"
      ],
      "metadata": {
        "colab": {
          "base_uri": "https://localhost:8080/"
        },
        "id": "i4V5DTc2IqzS",
        "outputId": "4361ae49-c6c8-41fa-aea0-bd3d4799a2ab"
      },
      "execution_count": 19,
      "outputs": [
        {
          "output_type": "stream",
          "name": "stdout",
          "text": [
            "\n",
            "Pivot Table:\n",
            "            sum  mean\n",
            "         Value Value\n",
            "Category            \n",
            "A           30  15.0\n",
            "B           40  20.0\n",
            "C           40  40.0\n"
          ]
        }
      ]
    }
  ]
}